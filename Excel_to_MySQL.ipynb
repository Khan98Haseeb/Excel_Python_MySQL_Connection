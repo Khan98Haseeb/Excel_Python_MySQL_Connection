{
 "cells": [
  {
   "cell_type": "markdown",
   "id": "9567a7e1-a6f1-434f-9428-05a697736034",
   "metadata": {},
   "source": [
    "# Installing and importing packages"
   ]
  },
  {
   "cell_type": "code",
   "execution_count": 61,
   "id": "dffbf3ef-655d-4698-b8fc-9be56106789c",
   "metadata": {},
   "outputs": [
    {
     "name": "stdout",
     "output_type": "stream",
     "text": [
      "Requirement already satisfied: pymysql in c:\\users\\hasee\\anaconda3\\lib\\site-packages (1.1.1)\n",
      "Note: you may need to restart the kernel to use updated packages.\n"
     ]
    }
   ],
   "source": [
    "pip install pymysql"
   ]
  },
  {
   "cell_type": "code",
   "execution_count": 62,
   "id": "0ac27f7a-e7d8-4c90-a614-24f9de489968",
   "metadata": {},
   "outputs": [],
   "source": [
    "import pandas as pd\n",
    "import numpy as np\n",
    "from sqlalchemy import create_engine, Table, Column, Integer, String, Float, MetaData, Date\n",
    "import pymysql\n",
    "from datetime import datetime, timedelta"
   ]
  },
  {
   "cell_type": "markdown",
   "id": "b570b2d8-5527-48cb-b1d4-abbf2c672d7f",
   "metadata": {},
   "source": [
    "# Connecting with the MySQL server"
   ]
  },
  {
   "cell_type": "code",
   "execution_count": 64,
   "id": "bd636f23-f2a2-42ca-a8cc-3aeb87d8d2db",
   "metadata": {},
   "outputs": [],
   "source": [
    "# Define your MySQL connection parameters\n",
    "MYSQL_USER = 'root'\n",
    "MYSQL_PASSWORD = 'Valarstark1*'\n",
    "MYSQL_HOST = 'localhost'\n",
    "MYSQL_PORT = 3306\n",
    "MYSQL_DATABASE = 'walmart_sales_db'"
   ]
  },
  {
   "cell_type": "code",
   "execution_count": 65,
   "id": "94fbc601-d2a8-4cee-9e84-f2941ca3d490",
   "metadata": {},
   "outputs": [],
   "source": [
    "# Establish connection\n",
    "connection = pymysql.connect(\n",
    "  host = MYSQL_HOST,\n",
    "  user = MYSQL_USER,\n",
    "  password = MYSQL_PASSWORD\n",
    ")\n",
    "\n",
    "# Create a cursor object to interact with the database\n",
    "cursor = connection.cursor()"
   ]
  },
  {
   "cell_type": "markdown",
   "id": "61301f5c-15e4-4438-b503-de4cdb2148f8",
   "metadata": {},
   "source": [
    "# Creating the database"
   ]
  },
  {
   "cell_type": "code",
   "execution_count": 67,
   "id": "79d55101-2557-40d2-94ec-23e97ae13a33",
   "metadata": {
    "scrolled": true
   },
   "outputs": [
    {
     "data": {
      "text/plain": [
       "1"
      ]
     },
     "execution_count": 67,
     "metadata": {},
     "output_type": "execute_result"
    }
   ],
   "source": [
    "# Create a new database\n",
    "cursor.execute(f\"CREATE DATABASE IF NOT EXISTS {MYSQL_DATABASE}\")"
   ]
  },
  {
   "cell_type": "markdown",
   "id": "dd82b984-6e68-4d65-ab00-c092d9eb7e56",
   "metadata": {},
   "source": [
    "# Importing the excel/csv files as pandas dataframes"
   ]
  },
  {
   "cell_type": "code",
   "execution_count": 69,
   "id": "fdaa1cc2-535d-486e-a88c-0d35f65d4b70",
   "metadata": {},
   "outputs": [
    {
     "data": {
      "text/html": [
       "<div>\n",
       "<style scoped>\n",
       "    .dataframe tbody tr th:only-of-type {\n",
       "        vertical-align: middle;\n",
       "    }\n",
       "\n",
       "    .dataframe tbody tr th {\n",
       "        vertical-align: top;\n",
       "    }\n",
       "\n",
       "    .dataframe thead th {\n",
       "        text-align: right;\n",
       "    }\n",
       "</style>\n",
       "<table border=\"1\" class=\"dataframe\">\n",
       "  <thead>\n",
       "    <tr style=\"text-align: right;\">\n",
       "      <th></th>\n",
       "      <th>Store</th>\n",
       "      <th>Date</th>\n",
       "      <th>Weekly_Sales</th>\n",
       "      <th>Holiday_Flag</th>\n",
       "      <th>Temperature</th>\n",
       "      <th>Fuel_Price</th>\n",
       "      <th>CPI</th>\n",
       "      <th>Unemployment</th>\n",
       "    </tr>\n",
       "  </thead>\n",
       "  <tbody>\n",
       "    <tr>\n",
       "      <th>0</th>\n",
       "      <td>1</td>\n",
       "      <td>05-02-2010</td>\n",
       "      <td>1643690.90</td>\n",
       "      <td>0</td>\n",
       "      <td>42.31</td>\n",
       "      <td>2.572</td>\n",
       "      <td>211.096358</td>\n",
       "      <td>8.106</td>\n",
       "    </tr>\n",
       "    <tr>\n",
       "      <th>1</th>\n",
       "      <td>1</td>\n",
       "      <td>12-02-2010</td>\n",
       "      <td>1641957.44</td>\n",
       "      <td>1</td>\n",
       "      <td>38.51</td>\n",
       "      <td>2.548</td>\n",
       "      <td>211.242170</td>\n",
       "      <td>8.106</td>\n",
       "    </tr>\n",
       "    <tr>\n",
       "      <th>2</th>\n",
       "      <td>1</td>\n",
       "      <td>19-02-2010</td>\n",
       "      <td>1611968.17</td>\n",
       "      <td>0</td>\n",
       "      <td>39.93</td>\n",
       "      <td>2.514</td>\n",
       "      <td>211.289143</td>\n",
       "      <td>8.106</td>\n",
       "    </tr>\n",
       "    <tr>\n",
       "      <th>3</th>\n",
       "      <td>1</td>\n",
       "      <td>26-02-2010</td>\n",
       "      <td>1409727.59</td>\n",
       "      <td>0</td>\n",
       "      <td>46.63</td>\n",
       "      <td>2.561</td>\n",
       "      <td>211.319643</td>\n",
       "      <td>8.106</td>\n",
       "    </tr>\n",
       "    <tr>\n",
       "      <th>4</th>\n",
       "      <td>1</td>\n",
       "      <td>05-03-2010</td>\n",
       "      <td>1554806.68</td>\n",
       "      <td>0</td>\n",
       "      <td>46.50</td>\n",
       "      <td>2.625</td>\n",
       "      <td>211.350143</td>\n",
       "      <td>8.106</td>\n",
       "    </tr>\n",
       "  </tbody>\n",
       "</table>\n",
       "</div>"
      ],
      "text/plain": [
       "   Store        Date  Weekly_Sales  Holiday_Flag  Temperature  Fuel_Price  \\\n",
       "0      1  05-02-2010    1643690.90             0        42.31       2.572   \n",
       "1      1  12-02-2010    1641957.44             1        38.51       2.548   \n",
       "2      1  19-02-2010    1611968.17             0        39.93       2.514   \n",
       "3      1  26-02-2010    1409727.59             0        46.63       2.561   \n",
       "4      1  05-03-2010    1554806.68             0        46.50       2.625   \n",
       "\n",
       "          CPI  Unemployment  \n",
       "0  211.096358         8.106  \n",
       "1  211.242170         8.106  \n",
       "2  211.289143         8.106  \n",
       "3  211.319643         8.106  \n",
       "4  211.350143         8.106  "
      ]
     },
     "execution_count": 69,
     "metadata": {},
     "output_type": "execute_result"
    }
   ],
   "source": [
    "# Reading the CSV file in pandas dataframe\n",
    "df = pd.read_csv('Walmart_Sales.csv')\n",
    "df.head()"
   ]
  },
  {
   "cell_type": "markdown",
   "id": "a12feeb9-5e91-40c9-bb5b-4c37f8c88fb9",
   "metadata": {},
   "source": [
    "# Loading the dataframes into the MySQL Database as tables"
   ]
  },
  {
   "cell_type": "code",
   "execution_count": 71,
   "id": "4085d40a-ab1c-4b07-bcba-bd88bb9ee766",
   "metadata": {},
   "outputs": [],
   "source": [
    "# Create a connection to lead the dataframe to MySQL\n",
    "engine = create_engine(f'mysql+pymysql://{MYSQL_USER}:{MYSQL_PASSWORD}@{MYSQL_HOST}:{MYSQL_PORT}/{MYSQL_DATABASE}')"
   ]
  },
  {
   "cell_type": "code",
   "execution_count": 72,
   "id": "0e5d52de-2595-4809-9b73-d22993e60f2f",
   "metadata": {},
   "outputs": [],
   "source": [
    "with engine.connect() as connection:\n",
    "    # Load DataFrame to SQL\n",
    "    df.to_sql(\"walmart_sales\", connection, if_exists=\"append\", index=False)"
   ]
  }
 ],
 "metadata": {
  "kernelspec": {
   "display_name": "Python 3 (ipykernel)",
   "language": "python",
   "name": "python3"
  },
  "language_info": {
   "codemirror_mode": {
    "name": "ipython",
    "version": 3
   },
   "file_extension": ".py",
   "mimetype": "text/x-python",
   "name": "python",
   "nbconvert_exporter": "python",
   "pygments_lexer": "ipython3",
   "version": "3.12.4"
  }
 },
 "nbformat": 4,
 "nbformat_minor": 5
}
